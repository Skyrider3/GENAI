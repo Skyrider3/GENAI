{
  "cells": [
    {
      "cell_type": "markdown",
      "metadata": {
        "id": "KowS58kCvtj_"
      },
      "source": [
        "# Build an agent with tool-calling superpowers 🦸 using Transformers Agents\n",
        "_Authored by: [Aymeric Roucher](https://huggingface.co/m-ric)_\n",
        "\n",
        "This notebook demonstrates how you can use [**Transformers Agents**](https://huggingface.co/docs/transformers/en/agents) to build awesome **agents**!\n",
        "\n",
        "What are **agents**? Agents are systems that are powered by an LLM and enable the LLM (with careful prompting and output parsing) to use specific *tools* to solve problems.\n",
        "\n",
        "These *tools* are basically functions that the LLM couldn't perform well by itself: for instance for a text-generation LLM like [Llama-3-70B](https://huggingface.co/meta-llama/Meta-Llama-3-70B-Instruct), this could be an image generation tool, a web search tool, a calculator...\n",
        "\n",
        "What is **Transformers Agents**? it's an extension of our `transformers` library that provides building blocks to build your own agents! Learn more about it in the [documentation](https://huggingface.co/docs/transformers/en/agents).\n",
        "\n",
        "Let's see how to use it, and which use cases it can solve.\n",
        "\n",
        "We install transformers agents from source since it has not been released as of writing, but later this week when it gets release you can simply install it with `pip install transformers[agents]`."
      ]
    },
    {
      "cell_type": "code",
      "execution_count": null,
      "metadata": {
        "id": "ueWEi-u-vtkA"
      },
      "outputs": [],
      "source": [
        "!pip install \"git+https://github.com/huggingface/transformers.git#egg=transformers[agents]\""
      ]
    },
    {
      "cell_type": "code",
      "execution_count": null,
      "metadata": {
        "id": "zcc_159avtkB"
      },
      "outputs": [],
      "source": [
        "!pip install datasets huggingface_hub langchain sentence-transformers faiss-cpu serpapi google-search-results openai -q"
      ]
    },
    {
      "cell_type": "markdown",
      "metadata": {
        "id": "KNf3u1dXvtkB"
      },
      "source": [
        "## 1. 🏞️ Multimodal + 🌐 Web-browsing assistant\n",
        "\n",
        "For this use case, we want to show an agent that browses the web and is able to generate image.\n",
        "\n",
        "To build it, we simply need to have two tools ready: image generation and web search.\n",
        "- For image generation, we load a tool from the Hub that uses the HF Inference API (Serverless) to generate images using Stable Diffusion.\n",
        "- For the web search, we load a LangChain tool."
      ]
    },
    {
      "cell_type": "code",
      "execution_count": null,
      "metadata": {
        "id": "-4wadn96vtkB",
        "outputId": "9a6ffebd-bfd2-4118-c73b-9345ce2a25bd"
      },
      "outputs": [
        {
          "name": "stderr",
          "output_type": "stream",
          "text": [
            "\u001b[33;1m======== New task ========\u001b[0m\n",
            "\u001b[37;1mGenerate me a photo of the car that James bond drove in the latest movie.\u001b[0m\n",
            "\u001b[33;1m==== Agent is executing the code below:\u001b[0m\n",
            "\u001b[0m\u001b[38;5;7mlatest_movie\u001b[39m\u001b[38;5;7m \u001b[39m\u001b[38;5;109;01m=\u001b[39;00m\u001b[38;5;7m \u001b[39m\u001b[38;5;7msearch\u001b[39m\u001b[38;5;7m(\u001b[39m\u001b[38;5;144m\"\u001b[39m\u001b[38;5;144mWhat is the latest James Bond movie?\u001b[39m\u001b[38;5;144m\"\u001b[39m\u001b[38;5;7m)\u001b[39m\n",
            "\u001b[38;5;109mprint\u001b[39m\u001b[38;5;7m(\u001b[39m\u001b[38;5;144m\"\u001b[39m\u001b[38;5;144mLatest James Bond movie:\u001b[39m\u001b[38;5;144m\"\u001b[39m\u001b[38;5;7m,\u001b[39m\u001b[38;5;7m \u001b[39m\u001b[38;5;7mlatest_movie\u001b[39m\u001b[38;5;7m)\u001b[39m\n",
            "\u001b[38;5;7mbond_car\u001b[39m\u001b[38;5;7m \u001b[39m\u001b[38;5;109;01m=\u001b[39;00m\u001b[38;5;7m \u001b[39m\u001b[38;5;7msearch\u001b[39m\u001b[38;5;7m(\u001b[39m\u001b[38;5;144m\"\u001b[39m\u001b[38;5;144mWhat car did James Bond drive in the latest movie?\u001b[39m\u001b[38;5;144m\"\u001b[39m\u001b[38;5;7m)\u001b[39m\n",
            "\u001b[38;5;109mprint\u001b[39m\u001b[38;5;7m(\u001b[39m\u001b[38;5;144m\"\u001b[39m\u001b[38;5;144mJames Bond\u001b[39m\u001b[38;5;144m'\u001b[39m\u001b[38;5;144ms car:\u001b[39m\u001b[38;5;144m\"\u001b[39m\u001b[38;5;7m,\u001b[39m\u001b[38;5;7m \u001b[39m\u001b[38;5;7mbond_car\u001b[39m\u001b[38;5;7m)\u001b[39m\u001b[0m\n",
            "\u001b[33;1m====\u001b[0m\n",
            "\u001b[33;1mPrint outputs:\u001b[0m\n",
            "\u001b[32;20mLatest James Bond movie: No Time to Die\n",
            "James Bond's car: Aston Martin DB5\n",
            "\u001b[0m\n",
            "\u001b[33;1m==== Agent is executing the code below:\u001b[0m\n",
            "\u001b[0m\u001b[38;5;7mimage\u001b[39m\u001b[38;5;7m \u001b[39m\u001b[38;5;109;01m=\u001b[39;00m\u001b[38;5;7m \u001b[39m\u001b[38;5;7mimage_generator\u001b[39m\u001b[38;5;7m(\u001b[39m\u001b[38;5;144m\"\u001b[39m\u001b[38;5;144mA high-res, photorealistic image of the Aston Martin DB5 driven by James Bond in No Time to Die\u001b[39m\u001b[38;5;144m\"\u001b[39m\u001b[38;5;7m)\u001b[39m\n",
            "\u001b[38;5;7mfinal_answer\u001b[39m\u001b[38;5;7m(\u001b[39m\u001b[38;5;7mimage\u001b[39m\u001b[38;5;7m)\u001b[39m\u001b[0m\n",
            "\u001b[33;1m====\u001b[0m\n",
            "\u001b[33;1mPrint outputs:\u001b[0m\n",
            "\u001b[32;20m\u001b[0m\n",
            "\u001b[33;1m>>> Final answer:\u001b[0m\n",
            "\u001b[32;20m/var/folders/6m/9b1tts6d5w960j80wbw9tx3m0000gn/T/tmptcdd2ra6/2bf48fc0-6fff-4e86-8fb5-85b3221bc0c8.png\u001b[0m\n"
          ]
        }
      ],
      "source": [
        "from transformers import Tool, load_tool, ReactCodeAgent, HfEngine\n",
        "\n",
        "# Import tool from Hub\n",
        "image_generation_tool = load_tool(\"m-ric/text-to-image\")\n",
        "\n",
        "# Import tool from LangChain\n",
        "from langchain.agents import load_tools\n",
        "\n",
        "search_tool = Tool.from_langchain(load_tools([\"serpapi\"])[0])\n",
        "\n",
        "\n",
        "llm_engine = HfEngine(\"meta-llama/Meta-Llama-3-70B-Instruct\")\n",
        "# Initialize the agent with both tools\n",
        "agent = ReactCodeAgent(\n",
        "    tools=[image_generation_tool, search_tool], llm_engine=llm_engine\n",
        ")\n",
        "\n",
        "# Run it!\n",
        "result = agent.run(\n",
        "    \"Generate me a photo of the car that James bond drove in the latest movie.\",\n",
        ")\n",
        "result"
      ]
    },
    {
      "cell_type": "markdown",
      "metadata": {
        "id": "CWZrp8vAvtkC"
      },
      "source": [
        "![Image of an Aston Martin DB5](https://huggingface.co/datasets/huggingface/cookbook-images/resolve/main/agents_db5.png)"
      ]
    },
    {
      "cell_type": "markdown",
      "metadata": {
        "id": "bp-TPSiMvtkC"
      },
      "source": [
        "## 2. 📚💬 RAG with Iterative query refinement & Source selection\n",
        "\n",
        "Quick definition: Retrieval-Augmented-Generation (RAG) is ___“using an LLM to answer a user query, but basing the answer on information retrieved from a knowledge base”.___\n",
        "\n",
        "This method has many advantages over using a vanilla or fine-tuned LLM: to name a few, it allows to ground the answer on true facts and reduce confabulations, it allows to provide the LLM with domain-specific knowledge, and it allows fine-grained control of access to information from the knowledge base.\n",
        "\n",
        "- Now let’s say we want to perform RAG, but with the additional constraint that some parameters must be dynamically generated. For example, depending on the user query we could want to restrict the search to specific subsets of the knowledge base, or we could want to adjust the number of documents retrieved. The difficulty is: **how to dynamically adjust these parameters based on the user query?**\n",
        "\n",
        "- A frequent failure case of RAG is when the retrieval based on the user query does not return any relevant supporting documents. **Is there a way to iterate by re-calling the retriever with a modified query in case the previous results were not relevant?**\n",
        "\n",
        "\n",
        "🔧 Well, we can solve the points above in a simple way: we will **give our agent control over the retriever's parameters!**\n",
        "\n",
        "➡️ Let's show how to do this. We first load a knowledge base on which we want to perform RAG: this dataset is a compilation of the documentation pages for many `huggingface` packages, stored as markdown.\n"
      ]
    },
    {
      "cell_type": "code",
      "execution_count": null,
      "metadata": {
        "id": "vOz5PD5SvtkC",
        "outputId": "d2a476a5-332b-4321-9aca-d5b2c50ef08a"
      },
      "outputs": [
        {
          "name": "stderr",
          "output_type": "stream",
          "text": [
            "/Users/aymeric/.pyenv/versions/3.12.0/lib/python3.12/site-packages/tqdm/auto.py:21: TqdmWarning: IProgress not found. Please update jupyter and ipywidgets. See https://ipywidgets.readthedocs.io/en/stable/user_install.html\n",
            "  from .autonotebook import tqdm as notebook_tqdm\n"
          ]
        }
      ],
      "source": [
        "import datasets\n",
        "\n",
        "knowledge_base = datasets.load_dataset(\"m-ric/huggingface_doc\", split=\"train\")"
      ]
    },
    {
      "cell_type": "markdown",
      "metadata": {
        "id": "ViprkQM-vtkD"
      },
      "source": [
        "Now we prepare the knowledge base by processing the dataset and storing it into a vector database to be used by the retriever. We are going to use LangChain, since it features excellent utilities for vector databases:\n"
      ]
    },
    {
      "cell_type": "code",
      "execution_count": null,
      "metadata": {
        "id": "6BCFLrPlvtkD"
      },
      "outputs": [],
      "source": [
        "from langchain.docstore.document import Document\n",
        "from langchain.text_splitter import RecursiveCharacterTextSplitter\n",
        "from langchain.vectorstores import FAISS\n",
        "from langchain_community.embeddings import HuggingFaceEmbeddings\n",
        "\n",
        "source_docs = [\n",
        "    Document(page_content=doc[\"text\"], metadata={\"source\": doc[\"source\"].split(\"/\")[1]})\n",
        "    for doc in knowledge_base\n",
        "]\n",
        "\n",
        "docs_processed = RecursiveCharacterTextSplitter(chunk_size=500).split_documents(\n",
        "    source_docs\n",
        ")[:1000]\n",
        "\n",
        "embedding_model = HuggingFaceEmbeddings(model_name=\"thenlper/gte-small\")\n",
        "vectordb = FAISS.from_documents(documents=docs_processed, embedding=embedding_model)"
      ]
    },
    {
      "cell_type": "markdown",
      "metadata": {
        "id": "XJNYUg15vtkD"
      },
      "source": [
        "Now that we have the database ready, let’s build a RAG system that answers user queries based on it!\n",
        "\n",
        "We want our system to select only from the most relevant sources of information, depending on the query.\n",
        "\n",
        "Our documentation pages come from the following sources:"
      ]
    },
    {
      "cell_type": "code",
      "execution_count": null,
      "metadata": {
        "id": "J5IC-t5JvtkD",
        "outputId": "362d229e-d3a7-48cd-f373-5164669bbb6e"
      },
      "outputs": [
        {
          "name": "stdout",
          "output_type": "stream",
          "text": [
            "['evaluate', 'course', 'deep-rl-class', 'peft', 'hf-endpoints-documentation', 'blog', 'gradio', 'datasets', 'datasets-server', 'transformers', 'optimum', 'hub-docs', 'pytorch-image-models', 'diffusers']\n"
          ]
        }
      ],
      "source": [
        "all_sources = list(set([doc.metadata[\"source\"] for doc in docs_processed]))\n",
        "print(all_sources)"
      ]
    },
    {
      "cell_type": "code",
      "execution_count": null,
      "metadata": {
        "id": "j2th2iUzvtkD"
      },
      "outputs": [],
      "source": [
        "import json\n",
        "from transformers.agents import Tool\n",
        "from langchain_core.vectorstores import VectorStore\n",
        "\n",
        "\n",
        "class RetrieverTool(Tool):\n",
        "    name = \"retriever\"\n",
        "    description = \"Retrieves some documents from the knowledge base that have the closest embeddings to the input query.\"\n",
        "    inputs = {\n",
        "        \"query\": {\n",
        "            \"type\": \"text\",\n",
        "            \"description\": \"The query to perform. This should be semantically close to your target documents. Use the affirmative form rather than a question.\",\n",
        "        },\n",
        "        \"source\": {\"type\": \"text\", \"description\": \"\"},\n",
        "        \"number_of_documents\": {\n",
        "            \"type\": \"text\",\n",
        "            \"description\": \"the number of documents to retrieve. Stay under 10 to avoid drowning in docs\",\n",
        "        },\n",
        "    }\n",
        "    output_type = \"text\"\n",
        "\n",
        "    def __init__(self, vectordb: VectorStore, all_sources: str, **kwargs):\n",
        "        super().__init__(**kwargs)\n",
        "        self.vectordb = vectordb\n",
        "        self.inputs[\"source\"][\n",
        "            \"description\"\n",
        "        ] = f\"The source of the documents to search, as a str representation of a list. Possible values in the list are: {all_sources}. If this argument is not provided, all sources will be searched.\"\n",
        "\n",
        "    def forward(self, query: str, source: str = None, number_of_documents=7) -> str:\n",
        "        assert isinstance(query, str), \"Your search query must be a string\"\n",
        "        number_of_documents = int(number_of_documents)\n",
        "\n",
        "        if source:\n",
        "            if isinstance(source, str) and \"[\" not in str(\n",
        "                source\n",
        "            ):  # if the source is not representing a list\n",
        "                source = [source]\n",
        "            source = json.loads(str(source).replace(\"'\", '\"'))\n",
        "\n",
        "        docs = self.vectordb.similarity_search(\n",
        "            query,\n",
        "            filter=({\"source\": source} if source else None),\n",
        "            k=number_of_documents,\n",
        "        )\n",
        "\n",
        "        if len(docs) == 0:\n",
        "            return \"No documents found with this filtering. Try removing the source filter.\"\n",
        "        return \"Retrieved documents:\\n\\n\" + \"\\n===Document===\\n\".join(\n",
        "            [doc.page_content for doc in docs]\n",
        "        )"
      ]
    },
    {
      "cell_type": "markdown",
      "metadata": {
        "id": "K23PdwMevtkD"
      },
      "source": [
        "### Optional: Share your Retriever tool to Hub\n",
        "\n",
        "To share your tool to the Hub, first copy-paste the code in the RetrieverTool definition cell to a new file named for instance `retriever.py`.\n",
        "\n",
        "When the tool is loaded from a separate file, you can then push it to the Hub using the code below (make sure to login with a `write` access token)"
      ]
    },
    {
      "cell_type": "code",
      "execution_count": null,
      "metadata": {
        "id": "JDlJIT7yvtkD"
      },
      "outputs": [],
      "source": [
        "share_to_hub = False\n",
        "\n",
        "if share_to_hub:\n",
        "    from huggingface_hub import login\n",
        "    from retriever import RetrieverTool\n",
        "\n",
        "    login(\"your_token\")\n",
        "\n",
        "    tool = RetrieverTool(vectordb, all_sources)\n",
        "\n",
        "    tool.push_to_hub(repo_id=\"m-ric/retriever-tool\")"
      ]
    },
    {
      "cell_type": "markdown",
      "metadata": {
        "id": "YRyy-5WivtkD"
      },
      "source": [
        "### Run the agent!"
      ]
    },
    {
      "cell_type": "code",
      "execution_count": null,
      "metadata": {
        "id": "Nn8UBOxgvtkD",
        "outputId": "f1935187-9631-42df-d80b-7ebfbe876559"
      },
      "outputs": [
        {
          "name": "stderr",
          "output_type": "stream",
          "text": [
            "A new version of the following files was downloaded from https://huggingface.co/spaces/m-ric/retriever-tool:\n",
            "- retriever.py\n",
            ". Make sure to double-check they do not contain any added malicious code. To avoid downloading new versions of the code file, you can pin a revision.\n",
            "\u001b[33;1m======== New task ========\u001b[0m\n",
            "\u001b[37;1mPlease show me a LORA finetuning script\u001b[0m\n",
            "\u001b[33;1mCalling tool: 'retriever' with arguments: {'number_of_documents': '5', 'query': 'LORA finetuning script', 'source': \"['transformers', 'blog']\"}\u001b[0m\n",
            "\u001b[33;1mCalling tool: 'retriever' with arguments: {'number_of_documents': '5', 'query': 'LORA finetuning script'}\u001b[0m\n",
            "\u001b[33;1mCalling tool: 'retriever' with arguments: {'number_of_documents': '5', 'query': 'train_text_to_image_lora.py'}\u001b[0m\n",
            "\u001b[33;1mCalling tool: 'final_answer' with arguments: https://github.com/huggingface/diffusers/blob/main/examples/text_to_image/train_text_to_image_lora.py\u001b[0m\n"
          ]
        },
        {
          "name": "stdout",
          "output_type": "stream",
          "text": [
            "Final output:\n",
            "https://github.com/huggingface/diffusers/blob/main/examples/text_to_image/train_text_to_image_lora.py\n"
          ]
        }
      ],
      "source": [
        "from transformers.agents import HfEngine, ReactJsonAgent, load_tool\n",
        "\n",
        "llm_engine = HfEngine(\"meta-llama/Meta-Llama-3-70B-Instruct\")\n",
        "\n",
        "retriever_tool = load_tool(\n",
        "    \"m-ric/retriever-tool\", vectordb=vectordb, all_sources=all_sources\n",
        ")\n",
        "agent = ReactJsonAgent(tools=[retriever_tool], llm_engine=llm_engine, verbose=0)\n",
        "\n",
        "agent_output = agent.run(\"Please show me a LORA finetuning script\")\n",
        "\n",
        "print(\"Final output:\")\n",
        "print(agent_output)"
      ]
    },
    {
      "cell_type": "markdown",
      "metadata": {
        "id": "tYAXFzA2vtkE"
      },
      "source": [
        "What happened here? First, the agent launched the retriever with specific sources in mind (`['transformers', 'blog']`).\n",
        "\n",
        "But this retrieval did not yield enough results ⇒ no problem! The agent could iterate on previous results, so it just re-ran its retrieval with less restrictive search parameters.\n",
        "Thus the research was successful!\n",
        "\n",
        "Note that **using an LLM agent** that calls a retriever as a tool and can dynamically modify the query and other retrieval parameters **is a more general formulation of RAG**, which also covers many RAG improvement techniques like iterative query refinement.\n",
        "\n",
        "## 3. 💻 Debug Python code\n",
        "Since the ReactCodeAgent has an built int Python code interpreter, we can use it to debug our faulty Python script!"
      ]
    },
    {
      "cell_type": "code",
      "execution_count": null,
      "metadata": {
        "id": "d9pdLRM_vtkE",
        "outputId": "e5e0e650-9f56-4088-cfcd-6ce93726cae8"
      },
      "outputs": [
        {
          "name": "stderr",
          "output_type": "stream",
          "text": [
            "\u001b[33;1m======== New task ========\u001b[0m\n",
            "\u001b[37;1mI have some code that creates a bug: please debug it and return the final code\n",
            "You have been provided with these initial arguments: {'code': '\\nlist=[0, 1, 2]\\n\\nfor i in range(4):\\n    print(list(i))\\n'}.\u001b[0m\n",
            "\u001b[33;1m==== Agent is executing the code below:\u001b[0m\n",
            "\u001b[0m\u001b[38;5;109mlist\u001b[39m\u001b[38;5;109;01m=\u001b[39;00m\u001b[38;5;7m[\u001b[39m\u001b[38;5;139m0\u001b[39m\u001b[38;5;7m,\u001b[39m\u001b[38;5;7m \u001b[39m\u001b[38;5;139m1\u001b[39m\u001b[38;5;7m,\u001b[39m\u001b[38;5;7m \u001b[39m\u001b[38;5;139m2\u001b[39m\u001b[38;5;7m]\u001b[39m\n",
            "\u001b[38;5;109mprint\u001b[39m\u001b[38;5;7m(\u001b[39m\u001b[38;5;109mlist\u001b[39m\u001b[38;5;7m)\u001b[39m\n",
            "\u001b[38;5;109;01mfor\u001b[39;00m\u001b[38;5;7m \u001b[39m\u001b[38;5;7mi\u001b[39m\u001b[38;5;7m \u001b[39m\u001b[38;5;109;01min\u001b[39;00m\u001b[38;5;7m \u001b[39m\u001b[38;5;109mrange\u001b[39m\u001b[38;5;7m(\u001b[39m\u001b[38;5;139m4\u001b[39m\u001b[38;5;7m)\u001b[39m\u001b[38;5;7m:\u001b[39m\n",
            "\u001b[38;5;7m    \u001b[39m\u001b[38;5;109mprint\u001b[39m\u001b[38;5;7m(\u001b[39m\u001b[38;5;109mlist\u001b[39m\u001b[38;5;7m[\u001b[39m\u001b[38;5;7mi\u001b[39m\u001b[38;5;7m]\u001b[39m\u001b[38;5;7m)\u001b[39m\u001b[0m\n",
            "\u001b[33;1m====\u001b[0m\n",
            "\u001b[31;20mFailed while trying to execute the code below:\n",
            "\u001b[0mlist=[0, 1, 2]\n",
            "print(list)\n",
            "for i in range(4):\n",
            "    print(list[i])\u001b[0m\n",
            "This failed due to the following error:\n",
            "list index out of range\u001b[0m\n",
            "Traceback (most recent call last):\n",
            "  File \"/Users/aymeric/Documents/Code/original_transformers/transformers/src/transformers/agents/agents.py\", line 823, in step\n",
            "    result = self.python_evaluator(code_action, available_tools, state=self.state)\n",
            "             ^^^^^^^^^^^^^^^^^^^^^^^^^^^^^^^^^^^^^^^^^^^^^^^^^^^^^^^^^^^^^^^^^^^^^\n",
            "  File \"/Users/aymeric/Documents/Code/original_transformers/transformers/src/transformers/agents/python_interpreter.py\", line 511, in evaluate_python_code\n",
            "    line_result = evaluate_ast(node, state, tools)\n",
            "                  ^^^^^^^^^^^^^^^^^^^^^^^^^^^^^^^^\n",
            "  File \"/Users/aymeric/Documents/Code/original_transformers/transformers/src/transformers/agents/python_interpreter.py\", line 404, in evaluate_ast\n",
            "    return evaluate_for(expression, state, tools)\n",
            "           ^^^^^^^^^^^^^^^^^^^^^^^^^^^^^^^^^^^^^^\n",
            "  File \"/Users/aymeric/Documents/Code/original_transformers/transformers/src/transformers/agents/python_interpreter.py\", line 313, in evaluate_for\n",
            "    line_result = evaluate_ast(node, state, tools)\n",
            "                  ^^^^^^^^^^^^^^^^^^^^^^^^^^^^^^^^\n",
            "  File \"/Users/aymeric/Documents/Code/original_transformers/transformers/src/transformers/agents/python_interpreter.py\", line 401, in evaluate_ast\n",
            "    return evaluate_ast(expression.value, state, tools)\n",
            "           ^^^^^^^^^^^^^^^^^^^^^^^^^^^^^^^^^^^^^^^^^^^^\n",
            "  File \"/Users/aymeric/Documents/Code/original_transformers/transformers/src/transformers/agents/python_interpreter.py\", line 365, in evaluate_ast\n",
            "    return evaluate_call(expression, state, tools)\n",
            "           ^^^^^^^^^^^^^^^^^^^^^^^^^^^^^^^^^^^^^^^\n",
            "  File \"/Users/aymeric/Documents/Code/original_transformers/transformers/src/transformers/agents/python_interpreter.py\", line 215, in evaluate_call\n",
            "    args = [evaluate_ast(arg, state, tools) for arg in call.args]\n",
            "            ^^^^^^^^^^^^^^^^^^^^^^^^^^^^^^^\n",
            "  File \"/Users/aymeric/Documents/Code/original_transformers/transformers/src/transformers/agents/python_interpreter.py\", line 423, in evaluate_ast\n",
            "    return evaluate_subscript(expression, state, tools)\n",
            "           ^^^^^^^^^^^^^^^^^^^^^^^^^^^^^^^^^^^^^^^^^^^^\n",
            "  File \"/Users/aymeric/Documents/Code/original_transformers/transformers/src/transformers/agents/python_interpreter.py\", line 236, in evaluate_subscript\n",
            "    return value[int(index)]\n",
            "           ~~~~~^^^^^^^^^^^^\n",
            "IndexError: list index out of range\n",
            "\n",
            "During handling of the above exception, another exception occurred:\n",
            "\n",
            "Traceback (most recent call last):\n",
            "  File \"/Users/aymeric/Documents/Code/original_transformers/transformers/src/transformers/agents/agents.py\", line 623, in run\n",
            "    final_answer = self.step()\n",
            "                   ^^^^^^^^^^^\n",
            "  File \"/Users/aymeric/Documents/Code/original_transformers/transformers/src/transformers/agents/agents.py\", line 832, in step\n",
            "    raise AgentExecutionError(error_msg)\n",
            "transformers.agents.agents.AgentExecutionError: Failed while trying to execute the code below:\n",
            "\u001b[0mlist=[0, 1, 2]\n",
            "print(list)\n",
            "for i in range(4):\n",
            "    print(list[i])\u001b[0m\n",
            "This failed due to the following error:\n",
            "list index out of range\n",
            "\u001b[33;1m==== Agent is executing the code below:\u001b[0m\n",
            "\u001b[0m\u001b[38;5;109mlist\u001b[39m\u001b[38;5;109;01m=\u001b[39;00m\u001b[38;5;7m[\u001b[39m\u001b[38;5;139m0\u001b[39m\u001b[38;5;7m,\u001b[39m\u001b[38;5;7m \u001b[39m\u001b[38;5;139m1\u001b[39m\u001b[38;5;7m,\u001b[39m\u001b[38;5;7m \u001b[39m\u001b[38;5;139m2\u001b[39m\u001b[38;5;7m]\u001b[39m\n",
            "\u001b[38;5;109mprint\u001b[39m\u001b[38;5;7m(\u001b[39m\u001b[38;5;109mlist\u001b[39m\u001b[38;5;7m)\u001b[39m\n",
            "\u001b[38;5;109;01mfor\u001b[39;00m\u001b[38;5;7m \u001b[39m\u001b[38;5;7mi\u001b[39m\u001b[38;5;7m \u001b[39m\u001b[38;5;109;01min\u001b[39;00m\u001b[38;5;7m \u001b[39m\u001b[38;5;109mrange\u001b[39m\u001b[38;5;7m(\u001b[39m\u001b[38;5;139m3\u001b[39m\u001b[38;5;7m)\u001b[39m\u001b[38;5;7m:\u001b[39m\n",
            "\u001b[38;5;7m    \u001b[39m\u001b[38;5;109mprint\u001b[39m\u001b[38;5;7m(\u001b[39m\u001b[38;5;109mlist\u001b[39m\u001b[38;5;7m[\u001b[39m\u001b[38;5;7mi\u001b[39m\u001b[38;5;7m]\u001b[39m\u001b[38;5;7m)\u001b[39m\u001b[0m\n",
            "\u001b[33;1m====\u001b[0m\n",
            "\u001b[33;1mPrint outputs:\u001b[0m\n",
            "\u001b[32;20m[0, 1, 2]\n",
            "0\n",
            "1\n",
            "2\n",
            "\u001b[0m\n",
            "\u001b[33;1m==== Agent is executing the code below:\u001b[0m\n",
            "\u001b[0m\u001b[38;5;109mlist\u001b[39m\u001b[38;5;109;01m=\u001b[39;00m\u001b[38;5;7m[\u001b[39m\u001b[38;5;139m0\u001b[39m\u001b[38;5;7m,\u001b[39m\u001b[38;5;7m \u001b[39m\u001b[38;5;139m1\u001b[39m\u001b[38;5;7m,\u001b[39m\u001b[38;5;7m \u001b[39m\u001b[38;5;139m2\u001b[39m\u001b[38;5;7m]\u001b[39m\n",
            "\u001b[38;5;109mprint\u001b[39m\u001b[38;5;7m(\u001b[39m\u001b[38;5;109mlist\u001b[39m\u001b[38;5;7m)\u001b[39m\n",
            "\u001b[38;5;109;01mfor\u001b[39;00m\u001b[38;5;7m \u001b[39m\u001b[38;5;7mi\u001b[39m\u001b[38;5;7m \u001b[39m\u001b[38;5;109;01min\u001b[39;00m\u001b[38;5;7m \u001b[39m\u001b[38;5;109mrange\u001b[39m\u001b[38;5;7m(\u001b[39m\u001b[38;5;139m3\u001b[39m\u001b[38;5;7m)\u001b[39m\u001b[38;5;7m:\u001b[39m\n",
            "\u001b[38;5;7m    \u001b[39m\u001b[38;5;109mprint\u001b[39m\u001b[38;5;7m(\u001b[39m\u001b[38;5;109mlist\u001b[39m\u001b[38;5;7m[\u001b[39m\u001b[38;5;7mi\u001b[39m\u001b[38;5;7m]\u001b[39m\u001b[38;5;7m)\u001b[39m\u001b[0m\n",
            "\u001b[33;1m====\u001b[0m\n",
            "\u001b[33;1mPrint outputs:\u001b[0m\n",
            "\u001b[32;20m[0, 1, 2]\n",
            "0\n",
            "1\n",
            "2\n",
            "\u001b[0m\n",
            "\u001b[33;1m==== Agent is executing the code below:\u001b[0m\n",
            "\u001b[0m\u001b[38;5;109mlist\u001b[39m\u001b[38;5;109;01m=\u001b[39;00m\u001b[38;5;7m[\u001b[39m\u001b[38;5;139m0\u001b[39m\u001b[38;5;7m,\u001b[39m\u001b[38;5;7m \u001b[39m\u001b[38;5;139m1\u001b[39m\u001b[38;5;7m,\u001b[39m\u001b[38;5;7m \u001b[39m\u001b[38;5;139m2\u001b[39m\u001b[38;5;7m]\u001b[39m\n",
            "\u001b[38;5;109mprint\u001b[39m\u001b[38;5;7m(\u001b[39m\u001b[38;5;109mlist\u001b[39m\u001b[38;5;7m)\u001b[39m\n",
            "\u001b[38;5;109;01mfor\u001b[39;00m\u001b[38;5;7m \u001b[39m\u001b[38;5;7mi\u001b[39m\u001b[38;5;7m \u001b[39m\u001b[38;5;109;01min\u001b[39;00m\u001b[38;5;7m \u001b[39m\u001b[38;5;109mrange\u001b[39m\u001b[38;5;7m(\u001b[39m\u001b[38;5;109mlen\u001b[39m\u001b[38;5;7m(\u001b[39m\u001b[38;5;109mlist\u001b[39m\u001b[38;5;7m)\u001b[39m\u001b[38;5;7m)\u001b[39m\u001b[38;5;7m:\u001b[39m\n",
            "\u001b[38;5;7m    \u001b[39m\u001b[38;5;109mprint\u001b[39m\u001b[38;5;7m(\u001b[39m\u001b[38;5;109mlist\u001b[39m\u001b[38;5;7m[\u001b[39m\u001b[38;5;7mi\u001b[39m\u001b[38;5;7m]\u001b[39m\u001b[38;5;7m)\u001b[39m\u001b[0m\n",
            "\u001b[33;1m====\u001b[0m\n",
            "\u001b[33;1mPrint outputs:\u001b[0m\n",
            "\u001b[32;20m[0, 1, 2]\n",
            "0\n",
            "1\n",
            "2\n",
            "\u001b[0m\n",
            "\u001b[33;1m==== Agent is executing the code below:\u001b[0m\n",
            "\u001b[0m\u001b[38;5;109mlist\u001b[39m\u001b[38;5;109;01m=\u001b[39;00m\u001b[38;5;7m[\u001b[39m\u001b[38;5;139m0\u001b[39m\u001b[38;5;7m,\u001b[39m\u001b[38;5;7m \u001b[39m\u001b[38;5;139m1\u001b[39m\u001b[38;5;7m,\u001b[39m\u001b[38;5;7m \u001b[39m\u001b[38;5;139m2\u001b[39m\u001b[38;5;7m]\u001b[39m\n",
            "\u001b[38;5;109mprint\u001b[39m\u001b[38;5;7m(\u001b[39m\u001b[38;5;109mlist\u001b[39m\u001b[38;5;7m)\u001b[39m\n",
            "\u001b[38;5;109;01mfor\u001b[39;00m\u001b[38;5;7m \u001b[39m\u001b[38;5;7mi\u001b[39m\u001b[38;5;7m \u001b[39m\u001b[38;5;109;01min\u001b[39;00m\u001b[38;5;7m \u001b[39m\u001b[38;5;109mrange\u001b[39m\u001b[38;5;7m(\u001b[39m\u001b[38;5;139m3\u001b[39m\u001b[38;5;7m)\u001b[39m\u001b[38;5;7m:\u001b[39m\n",
            "\u001b[38;5;7m    \u001b[39m\u001b[38;5;109mprint\u001b[39m\u001b[38;5;7m(\u001b[39m\u001b[38;5;109mlist\u001b[39m\u001b[38;5;7m[\u001b[39m\u001b[38;5;7mi\u001b[39m\u001b[38;5;7m]\u001b[39m\u001b[38;5;7m)\u001b[39m\n",
            "\u001b[38;5;7mfinal_answer\u001b[39m\u001b[38;5;7m(\u001b[39m\u001b[38;5;7mcode\u001b[39m\u001b[38;5;7m)\u001b[39m\u001b[0m\n",
            "\u001b[33;1m====\u001b[0m\n",
            "\u001b[33;1mPrint outputs:\u001b[0m\n",
            "\u001b[32;20m[0, 1, 2]\n",
            "0\n",
            "1\n",
            "2\n",
            "\u001b[0m\n",
            "\u001b[33;1m>>> Final answer:\u001b[0m\n",
            "\u001b[32;20m\n",
            "list=[0, 1, 2]\n",
            "\n",
            "for i in range(4):\n",
            "    print(list(i))\n",
            "\u001b[0m\n"
          ]
        }
      ],
      "source": [
        "from transformers import ReactCodeAgent\n",
        "\n",
        "agent = ReactCodeAgent(tools=[])\n",
        "\n",
        "code = \"\"\"\n",
        "list=[0, 1, 2]\n",
        "\n",
        "for i in range(4):\n",
        "    print(list(i))\n",
        "\"\"\"\n",
        "\n",
        "final_answer = agent.run(\n",
        "    \"I have some code that creates a bug: please debug it and return the final code\",\n",
        "    code=code,\n",
        ")"
      ]
    },
    {
      "cell_type": "markdown",
      "metadata": {
        "id": "60UWcl1svtkE"
      },
      "source": [
        "As you can see, the agent tried the given code, gets an error, analyses the error, corrects the code and returns it after veryfing that it works!\n",
        "\n",
        "And the final code is the corrected code:"
      ]
    },
    {
      "cell_type": "code",
      "execution_count": null,
      "metadata": {
        "id": "apYcJLupvtkE",
        "outputId": "d8e4ffc4-5ff2-4b8b-f43e-be006ef63050"
      },
      "outputs": [
        {
          "name": "stdout",
          "output_type": "stream",
          "text": [
            "\n",
            "list=[0, 1, 2]\n",
            "\n",
            "for i in range(4):\n",
            "    print(list(i))\n",
            "\n"
          ]
        }
      ],
      "source": [
        "print(final_answer)"
      ]
    },
    {
      "cell_type": "markdown",
      "metadata": {
        "id": "8vDlunRHvtkE"
      },
      "source": [
        "## 4. Create your own LLM engine (OpenAI)\n",
        "\n",
        "It's really easy to set up your own LLM engine:\n",
        "it only needs a `__call__` method with these criteria:\n",
        "1. Takes as input a list of messages in [ChatML format](https://huggingface.co/docs/transformers/main/en/chat_templating#introduction) and outputs the answer.\n",
        "2. Accepts a `stop_sequences` arguments to pass sequences on which generation stops.\n",
        "3. Depending on which kind of message roles your LLM accepts, you may also need to convert some message roles."
      ]
    },
    {
      "cell_type": "code",
      "execution_count": null,
      "metadata": {
        "id": "1VwMu4YavtkE",
        "outputId": "88ce3c49-9064-4228-d948-dbf17eea549e"
      },
      "outputs": [
        {
          "name": "stderr",
          "output_type": "stream",
          "text": [
            "\u001b[33;1m======== New task ========\u001b[0m\n",
            "\u001b[37;1mI have some code that creates a bug: please debug it and return the final code\n",
            "You have been provided with these initial arguments: {'code': '\\nlist=[0, 1, 2]\\n\\nfor i in range(4):\\n    print(list(i))\\n'}.\u001b[0m\n",
            "\u001b[33;1m==== Agent is executing the code below:\u001b[0m\n",
            "\u001b[0m\u001b[38;5;7mmy_list\u001b[39m\u001b[38;5;7m \u001b[39m\u001b[38;5;109;01m=\u001b[39;00m\u001b[38;5;7m \u001b[39m\u001b[38;5;7m[\u001b[39m\u001b[38;5;139m0\u001b[39m\u001b[38;5;7m,\u001b[39m\u001b[38;5;7m \u001b[39m\u001b[38;5;139m1\u001b[39m\u001b[38;5;7m,\u001b[39m\u001b[38;5;7m \u001b[39m\u001b[38;5;139m2\u001b[39m\u001b[38;5;7m]\u001b[39m\u001b[38;5;7m  \u001b[39m\u001b[38;5;60;03m# Renamed the list to avoid using the built-in name\u001b[39;00m\n",
            "\n",
            "\u001b[38;5;109;01mfor\u001b[39;00m\u001b[38;5;7m \u001b[39m\u001b[38;5;7mi\u001b[39m\u001b[38;5;7m \u001b[39m\u001b[38;5;109;01min\u001b[39;00m\u001b[38;5;7m \u001b[39m\u001b[38;5;109mrange\u001b[39m\u001b[38;5;7m(\u001b[39m\u001b[38;5;109mlen\u001b[39m\u001b[38;5;7m(\u001b[39m\u001b[38;5;7mmy_list\u001b[39m\u001b[38;5;7m)\u001b[39m\u001b[38;5;7m)\u001b[39m\u001b[38;5;7m:\u001b[39m\u001b[38;5;7m  \u001b[39m\u001b[38;5;60;03m# Changed the range to be within the length of the list\u001b[39;00m\n",
            "\u001b[38;5;7m    \u001b[39m\u001b[38;5;109mprint\u001b[39m\u001b[38;5;7m(\u001b[39m\u001b[38;5;7mmy_list\u001b[39m\u001b[38;5;7m[\u001b[39m\u001b[38;5;7mi\u001b[39m\u001b[38;5;7m]\u001b[39m\u001b[38;5;7m)\u001b[39m\u001b[38;5;7m  \u001b[39m\u001b[38;5;60;03m# Corrected the list access syntax\u001b[39;00m\u001b[0m\n",
            "\u001b[33;1m====\u001b[0m\n",
            "\u001b[33;1mPrint outputs:\u001b[0m\n",
            "\u001b[32;20m0\n",
            "1\n",
            "2\n",
            "\u001b[0m\n",
            "\u001b[33;1m==== Agent is executing the code below:\u001b[0m\n",
            "\u001b[0m\u001b[38;5;7mmy_list\u001b[39m\u001b[38;5;7m \u001b[39m\u001b[38;5;109;01m=\u001b[39;00m\u001b[38;5;7m \u001b[39m\u001b[38;5;7m[\u001b[39m\u001b[38;5;139m0\u001b[39m\u001b[38;5;7m,\u001b[39m\u001b[38;5;7m \u001b[39m\u001b[38;5;139m1\u001b[39m\u001b[38;5;7m,\u001b[39m\u001b[38;5;7m \u001b[39m\u001b[38;5;139m2\u001b[39m\u001b[38;5;7m]\u001b[39m\u001b[38;5;7m  \u001b[39m\u001b[38;5;60;03m# Renamed the list to avoid using the built-in name\u001b[39;00m\n",
            "\n",
            "\u001b[38;5;109;01mfor\u001b[39;00m\u001b[38;5;7m \u001b[39m\u001b[38;5;7mi\u001b[39m\u001b[38;5;7m \u001b[39m\u001b[38;5;109;01min\u001b[39;00m\u001b[38;5;7m \u001b[39m\u001b[38;5;109mrange\u001b[39m\u001b[38;5;7m(\u001b[39m\u001b[38;5;109mlen\u001b[39m\u001b[38;5;7m(\u001b[39m\u001b[38;5;7mmy_list\u001b[39m\u001b[38;5;7m)\u001b[39m\u001b[38;5;7m)\u001b[39m\u001b[38;5;7m:\u001b[39m\u001b[38;5;7m  \u001b[39m\u001b[38;5;60;03m# Changed the range to be within the length of the list\u001b[39;00m\n",
            "\u001b[38;5;7m    \u001b[39m\u001b[38;5;109mprint\u001b[39m\u001b[38;5;7m(\u001b[39m\u001b[38;5;7mmy_list\u001b[39m\u001b[38;5;7m[\u001b[39m\u001b[38;5;7mi\u001b[39m\u001b[38;5;7m]\u001b[39m\u001b[38;5;7m)\u001b[39m\u001b[38;5;7m  \u001b[39m\u001b[38;5;60;03m# Corrected the list access syntax\u001b[39;00m\u001b[0m\n",
            "\u001b[33;1m====\u001b[0m\n",
            "\u001b[33;1mPrint outputs:\u001b[0m\n",
            "\u001b[32;20m0\n",
            "1\n",
            "2\n",
            "\u001b[0m\n",
            "\u001b[33;1m==== Agent is executing the code below:\u001b[0m\n",
            "\u001b[0m\u001b[38;5;7mcorrected_code\u001b[39m\u001b[38;5;7m \u001b[39m\u001b[38;5;109;01m=\u001b[39;00m\u001b[38;5;7m \u001b[39m\u001b[38;5;144m'''\u001b[39m\n",
            "\u001b[38;5;144mmy_list = [0, 1, 2]  # Renamed the list to avoid using the built-in name\u001b[39m\n",
            "\n",
            "\u001b[38;5;144mfor i in range(len(my_list)):  # Changed the range to be within the length of the list\u001b[39m\n",
            "\u001b[38;5;144m    print(my_list[i])  # Corrected the list access syntax\u001b[39m\n",
            "\u001b[38;5;144m'''\u001b[39m\n",
            "\n",
            "\u001b[38;5;7mfinal_answer\u001b[39m\u001b[38;5;7m(\u001b[39m\u001b[38;5;7manswer\u001b[39m\u001b[38;5;109;01m=\u001b[39;00m\u001b[38;5;7mcorrected_code\u001b[39m\u001b[38;5;7m)\u001b[39m\u001b[0m\n",
            "\u001b[33;1m====\u001b[0m\n",
            "\u001b[33;1mPrint outputs:\u001b[0m\n",
            "\u001b[32;20m\u001b[0m\n",
            "\u001b[33;1m>>> Final answer:\u001b[0m\n",
            "\u001b[32;20m\n",
            "my_list = [0, 1, 2]  # Renamed the list to avoid using the built-in name\n",
            "\n",
            "for i in range(len(my_list)):  # Changed the range to be within the length of the list\n",
            "    print(my_list[i])  # Corrected the list access syntax\n",
            "\u001b[0m\n"
          ]
        }
      ],
      "source": [
        "import os\n",
        "from openai import OpenAI\n",
        "from transformers.agents.llm_engine import MessageRole, get_clean_message_list\n",
        "\n",
        "openai_role_conversions = {\n",
        "    MessageRole.TOOL_RESPONSE: \"user\",\n",
        "}\n",
        "\n",
        "\n",
        "class OpenAIEngine:\n",
        "    def __init__(self, model_name=\"gpt-4o-2024-05-13\"):\n",
        "        self.model_name = model_name\n",
        "        self.client = OpenAI(\n",
        "            api_key=os.getenv(\"OPENAI_API_KEY\"),\n",
        "        )\n",
        "\n",
        "    def __call__(self, messages, stop_sequences=[]):\n",
        "        # Get clean message list\n",
        "        messages = get_clean_message_list(\n",
        "            messages, role_conversions=openai_role_conversions\n",
        "        )\n",
        "\n",
        "        # Get LLM output\n",
        "        response = self.client.chat.completions.create(\n",
        "            model=self.model_name,\n",
        "            messages=messages,\n",
        "            stop=stop_sequences,\n",
        "        )\n",
        "        return response.choices[0].message.content\n",
        "\n",
        "\n",
        "openai_engine = OpenAIEngine()\n",
        "agent = ReactCodeAgent(llm_engine=openai_engine, tools=[])\n",
        "\n",
        "code = \"\"\"\n",
        "list=[0, 1, 2]\n",
        "\n",
        "for i in range(4):\n",
        "    print(list(i))\n",
        "\"\"\"\n",
        "\n",
        "final_answer = agent.run(\n",
        "    \"I have some code that creates a bug: please debug it and return the final code\",\n",
        "    code=code,\n",
        ")"
      ]
    },
    {
      "cell_type": "code",
      "execution_count": null,
      "metadata": {
        "id": "NvdKZp22vtkE",
        "outputId": "3cbf143a-2500-432e-968a-5d2d9c728929"
      },
      "outputs": [
        {
          "name": "stdout",
          "output_type": "stream",
          "text": [
            "\n",
            "my_list = [0, 1, 2]  # Renamed the list to avoid using the built-in name\n",
            "\n",
            "for i in range(len(my_list)):  # Changed the range to be within the length of the list\n",
            "    print(my_list[i])  # Corrected the list access syntax\n",
            "\n"
          ]
        }
      ],
      "source": [
        "print(final_answer)"
      ]
    },
    {
      "cell_type": "markdown",
      "metadata": {
        "id": "Tl6e3LtevtkE"
      },
      "source": [
        "## ➡️ Conclusion\n",
        "\n",
        "The use cases above should give you a glimpse into the possibilities of our Agents framework!\n",
        "\n",
        "For more advanced usage, read the [documentation](https://huggingface.co/docs/transformers/en/transformers_agents), and [this experiment](https://github.com/aymeric-roucher/agent_reasoning_benchmark/blob/main/benchmark_gaia.ipynb) that allowed us to build our own agent based on Llama-3-70B that beats many GPT-4 agents on the very difficult [GAIA Leaderboard](https://huggingface.co/spaces/gaia-benchmark/leaderboard)!\n",
        "\n",
        "All feedback is welcome, it will help us improve the framework! 🚀"
      ]
    }
  ],
  "metadata": {
    "kernelspec": {
      "display_name": "test2",
      "language": "python",
      "name": "test2"
    },
    "language_info": {
      "codemirror_mode": {
        "name": "ipython",
        "version": 3
      },
      "file_extension": ".py",
      "mimetype": "text/x-python",
      "name": "python",
      "nbconvert_exporter": "python",
      "pygments_lexer": "ipython3",
      "version": "3.12.0"
    },
    "colab": {
      "provenance": []
    }
  },
  "nbformat": 4,
  "nbformat_minor": 0
}